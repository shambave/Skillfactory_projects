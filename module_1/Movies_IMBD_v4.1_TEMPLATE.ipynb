{
 "cells": [
  {
   "cell_type": "code",
   "execution_count": null,
   "metadata": {},
   "outputs": [],
   "source": [
    "import numpy as np\n",
    "import pandas as pd\n",
    "import seaborn as sns\n",
    "import matplotlib.pyplot as plt\n",
    "from collections import Counter"
   ]
  },
  {
   "cell_type": "code",
   "execution_count": 42,
   "metadata": {},
   "outputs": [
    {
     "data": {
      "text/html": [
       "<div>\n",
       "<style scoped>\n",
       "    .dataframe tbody tr th:only-of-type {\n",
       "        vertical-align: middle;\n",
       "    }\n",
       "\n",
       "    .dataframe tbody tr th {\n",
       "        vertical-align: top;\n",
       "    }\n",
       "\n",
       "    .dataframe thead th {\n",
       "        text-align: right;\n",
       "    }\n",
       "</style>\n",
       "<table border=\"1\" class=\"dataframe\">\n",
       "  <thead>\n",
       "    <tr style=\"text-align: right;\">\n",
       "      <th></th>\n",
       "      <th>imdb_id</th>\n",
       "      <th>budget</th>\n",
       "      <th>revenue</th>\n",
       "      <th>original_title</th>\n",
       "      <th>cast</th>\n",
       "      <th>director</th>\n",
       "      <th>tagline</th>\n",
       "      <th>overview</th>\n",
       "      <th>runtime</th>\n",
       "      <th>genres</th>\n",
       "      <th>production_companies</th>\n",
       "      <th>release_date</th>\n",
       "      <th>vote_average</th>\n",
       "      <th>release_year</th>\n",
       "    </tr>\n",
       "  </thead>\n",
       "  <tbody>\n",
       "    <tr>\n",
       "      <th>1060</th>\n",
       "      <td>tt1712170</td>\n",
       "      <td>45000000</td>\n",
       "      <td>30353232</td>\n",
       "      <td>Alex Cross</td>\n",
       "      <td>Tyler Perry|Rachel Nichols|Jean Reno|Matthew F...</td>\n",
       "      <td>Rob Cohen</td>\n",
       "      <td>Don't Ever Cross Alex Cross</td>\n",
       "      <td>After Washington DC detective Alex Cross is to...</td>\n",
       "      <td>101</td>\n",
       "      <td>Action|Thriller|Crime|Mystery</td>\n",
       "      <td>Summit Entertainment</td>\n",
       "      <td>10/18/2012</td>\n",
       "      <td>5.2</td>\n",
       "      <td>2012</td>\n",
       "    </tr>\n",
       "    <tr>\n",
       "      <th>1270</th>\n",
       "      <td>tt1291580</td>\n",
       "      <td>23000000</td>\n",
       "      <td>15600000</td>\n",
       "      <td>Behind the Candelabra</td>\n",
       "      <td>Michael Douglas|Matt Damon|Rob Lowe|Dan Aykroy...</td>\n",
       "      <td>Steven Soderbergh</td>\n",
       "      <td>Too much of a good thing is wonderful</td>\n",
       "      <td>Based on the autobiographical novel, the tempe...</td>\n",
       "      <td>118</td>\n",
       "      <td>Drama|Romance</td>\n",
       "      <td>HBO Films</td>\n",
       "      <td>5/26/2013</td>\n",
       "      <td>6.6</td>\n",
       "      <td>2013</td>\n",
       "    </tr>\n",
       "    <tr>\n",
       "      <th>1398</th>\n",
       "      <td>tt0398165</td>\n",
       "      <td>82000000</td>\n",
       "      <td>190320568</td>\n",
       "      <td>The Longest Yard</td>\n",
       "      <td>Adam Sandler|Chris Rock|Burt Reynolds|Michael ...</td>\n",
       "      <td>Peter Segal</td>\n",
       "      <td>If you can't get out, get even.</td>\n",
       "      <td>Pro quarter-back, Paul Crewe and former colleg...</td>\n",
       "      <td>113</td>\n",
       "      <td>Comedy|Drama</td>\n",
       "      <td>Paramount Pictures|Columbia Pictures Corporati...</td>\n",
       "      <td>5/19/2005</td>\n",
       "      <td>6.2</td>\n",
       "      <td>2005</td>\n",
       "    </tr>\n",
       "    <tr>\n",
       "      <th>1549</th>\n",
       "      <td>tt0454082</td>\n",
       "      <td>9000000</td>\n",
       "      <td>21510851</td>\n",
       "      <td>Black Christmas</td>\n",
       "      <td>Katie Cassidy|Michelle Trachtenberg|Kristen Cl...</td>\n",
       "      <td>Glen Morgan</td>\n",
       "      <td>This holiday season, the slay ride begins.</td>\n",
       "      <td>An escaped maniac returns to his childhood hom...</td>\n",
       "      <td>84</td>\n",
       "      <td>Horror|Thriller</td>\n",
       "      <td>Dimension Films</td>\n",
       "      <td>12/25/2006</td>\n",
       "      <td>5.3</td>\n",
       "      <td>2006</td>\n",
       "    </tr>\n",
       "    <tr>\n",
       "      <th>1767</th>\n",
       "      <td>tt0419887</td>\n",
       "      <td>20000000</td>\n",
       "      <td>73276047</td>\n",
       "      <td>The Kite Runner</td>\n",
       "      <td>Khalid Abdalla|Atossa Leoni|Shaun Toub|Zekeria...</td>\n",
       "      <td>Marc Forster</td>\n",
       "      <td>There is a way to be good again.</td>\n",
       "      <td>The Kite Runner is a 2007 American drama film ...</td>\n",
       "      <td>128</td>\n",
       "      <td>Drama</td>\n",
       "      <td>DreamWorks SKG|MacDonald/Parkes Productions|Si...</td>\n",
       "      <td>10/14/2007</td>\n",
       "      <td>7.3</td>\n",
       "      <td>2007</td>\n",
       "    </tr>\n",
       "  </tbody>\n",
       "</table>\n",
       "</div>"
      ],
      "text/plain": [
       "        imdb_id    budget    revenue         original_title  \\\n",
       "1060  tt1712170  45000000   30353232             Alex Cross   \n",
       "1270  tt1291580  23000000   15600000  Behind the Candelabra   \n",
       "1398  tt0398165  82000000  190320568       The Longest Yard   \n",
       "1549  tt0454082   9000000   21510851        Black Christmas   \n",
       "1767  tt0419887  20000000   73276047        The Kite Runner   \n",
       "\n",
       "                                                   cast           director  \\\n",
       "1060  Tyler Perry|Rachel Nichols|Jean Reno|Matthew F...          Rob Cohen   \n",
       "1270  Michael Douglas|Matt Damon|Rob Lowe|Dan Aykroy...  Steven Soderbergh   \n",
       "1398  Adam Sandler|Chris Rock|Burt Reynolds|Michael ...        Peter Segal   \n",
       "1549  Katie Cassidy|Michelle Trachtenberg|Kristen Cl...        Glen Morgan   \n",
       "1767  Khalid Abdalla|Atossa Leoni|Shaun Toub|Zekeria...       Marc Forster   \n",
       "\n",
       "                                         tagline  \\\n",
       "1060                 Don't Ever Cross Alex Cross   \n",
       "1270       Too much of a good thing is wonderful   \n",
       "1398             If you can't get out, get even.   \n",
       "1549  This holiday season, the slay ride begins.   \n",
       "1767            There is a way to be good again.   \n",
       "\n",
       "                                               overview  runtime  \\\n",
       "1060  After Washington DC detective Alex Cross is to...      101   \n",
       "1270  Based on the autobiographical novel, the tempe...      118   \n",
       "1398  Pro quarter-back, Paul Crewe and former colleg...      113   \n",
       "1549  An escaped maniac returns to his childhood hom...       84   \n",
       "1767  The Kite Runner is a 2007 American drama film ...      128   \n",
       "\n",
       "                             genres  \\\n",
       "1060  Action|Thriller|Crime|Mystery   \n",
       "1270                  Drama|Romance   \n",
       "1398                   Comedy|Drama   \n",
       "1549                Horror|Thriller   \n",
       "1767                          Drama   \n",
       "\n",
       "                                   production_companies release_date  \\\n",
       "1060                               Summit Entertainment   10/18/2012   \n",
       "1270                                          HBO Films    5/26/2013   \n",
       "1398  Paramount Pictures|Columbia Pictures Corporati...    5/19/2005   \n",
       "1549                                    Dimension Films   12/25/2006   \n",
       "1767  DreamWorks SKG|MacDonald/Parkes Productions|Si...   10/14/2007   \n",
       "\n",
       "      vote_average  release_year  \n",
       "1060           5.2          2012  \n",
       "1270           6.6          2013  \n",
       "1398           6.2          2005  \n",
       "1549           5.3          2006  \n",
       "1767           7.3          2007  "
      ]
     },
     "execution_count": 42,
     "metadata": {},
     "output_type": "execute_result"
    }
   ],
   "source": [
    "data = pd.read_csv('/Users/roberttramp/Documents/movie_bd_v5.csv')\n",
    "data.sample(5)"
   ]
  },
  {
   "cell_type": "code",
   "execution_count": 7,
   "metadata": {
    "colab": {},
    "colab_type": "code",
    "id": "CoYUnagMVp-C"
   },
   "outputs": [
    {
     "data": {
      "text/html": [
       "<div>\n",
       "<style scoped>\n",
       "    .dataframe tbody tr th:only-of-type {\n",
       "        vertical-align: middle;\n",
       "    }\n",
       "\n",
       "    .dataframe tbody tr th {\n",
       "        vertical-align: top;\n",
       "    }\n",
       "\n",
       "    .dataframe thead th {\n",
       "        text-align: right;\n",
       "    }\n",
       "</style>\n",
       "<table border=\"1\" class=\"dataframe\">\n",
       "  <thead>\n",
       "    <tr style=\"text-align: right;\">\n",
       "      <th></th>\n",
       "      <th>budget</th>\n",
       "      <th>revenue</th>\n",
       "      <th>runtime</th>\n",
       "      <th>vote_average</th>\n",
       "      <th>release_year</th>\n",
       "    </tr>\n",
       "  </thead>\n",
       "  <tbody>\n",
       "    <tr>\n",
       "      <th>count</th>\n",
       "      <td>1.889000e+03</td>\n",
       "      <td>1.889000e+03</td>\n",
       "      <td>1889.000000</td>\n",
       "      <td>1889.000000</td>\n",
       "      <td>1889.000000</td>\n",
       "    </tr>\n",
       "    <tr>\n",
       "      <th>mean</th>\n",
       "      <td>5.431083e+07</td>\n",
       "      <td>1.553653e+08</td>\n",
       "      <td>109.658549</td>\n",
       "      <td>6.140762</td>\n",
       "      <td>2007.860773</td>\n",
       "    </tr>\n",
       "    <tr>\n",
       "      <th>std</th>\n",
       "      <td>4.858721e+07</td>\n",
       "      <td>2.146698e+08</td>\n",
       "      <td>18.017041</td>\n",
       "      <td>0.764763</td>\n",
       "      <td>4.468841</td>\n",
       "    </tr>\n",
       "    <tr>\n",
       "      <th>min</th>\n",
       "      <td>5.000000e+06</td>\n",
       "      <td>2.033165e+06</td>\n",
       "      <td>63.000000</td>\n",
       "      <td>3.300000</td>\n",
       "      <td>2000.000000</td>\n",
       "    </tr>\n",
       "    <tr>\n",
       "      <th>25%</th>\n",
       "      <td>2.000000e+07</td>\n",
       "      <td>3.456058e+07</td>\n",
       "      <td>97.000000</td>\n",
       "      <td>5.600000</td>\n",
       "      <td>2004.000000</td>\n",
       "    </tr>\n",
       "    <tr>\n",
       "      <th>50%</th>\n",
       "      <td>3.800000e+07</td>\n",
       "      <td>8.361541e+07</td>\n",
       "      <td>107.000000</td>\n",
       "      <td>6.100000</td>\n",
       "      <td>2008.000000</td>\n",
       "    </tr>\n",
       "    <tr>\n",
       "      <th>75%</th>\n",
       "      <td>7.200000e+07</td>\n",
       "      <td>1.782626e+08</td>\n",
       "      <td>120.000000</td>\n",
       "      <td>6.600000</td>\n",
       "      <td>2012.000000</td>\n",
       "    </tr>\n",
       "    <tr>\n",
       "      <th>max</th>\n",
       "      <td>3.800000e+08</td>\n",
       "      <td>2.781506e+09</td>\n",
       "      <td>214.000000</td>\n",
       "      <td>8.100000</td>\n",
       "      <td>2015.000000</td>\n",
       "    </tr>\n",
       "  </tbody>\n",
       "</table>\n",
       "</div>"
      ],
      "text/plain": [
       "             budget       revenue      runtime  vote_average  release_year\n",
       "count  1.889000e+03  1.889000e+03  1889.000000   1889.000000   1889.000000\n",
       "mean   5.431083e+07  1.553653e+08   109.658549      6.140762   2007.860773\n",
       "std    4.858721e+07  2.146698e+08    18.017041      0.764763      4.468841\n",
       "min    5.000000e+06  2.033165e+06    63.000000      3.300000   2000.000000\n",
       "25%    2.000000e+07  3.456058e+07    97.000000      5.600000   2004.000000\n",
       "50%    3.800000e+07  8.361541e+07   107.000000      6.100000   2008.000000\n",
       "75%    7.200000e+07  1.782626e+08   120.000000      6.600000   2012.000000\n",
       "max    3.800000e+08  2.781506e+09   214.000000      8.100000   2015.000000"
      ]
     },
     "execution_count": 7,
     "metadata": {},
     "output_type": "execute_result"
    }
   ],
   "source": [
    "data.describe()"
   ]
  },
  {
   "cell_type": "markdown",
   "metadata": {
    "colab_type": "text",
    "id": "DTIt7ezGVp-G"
   },
   "source": [
    "# Предобработка"
   ]
  },
  {
   "cell_type": "code",
   "execution_count": 9,
   "metadata": {
    "colab": {},
    "colab_type": "code",
    "id": "jNb40DwKVp-H"
   },
   "outputs": [],
   "source": [
    "answers = {} # создадим словарь для ответов\n",
    "\n",
    "# тут другие ваши предобработки колонок например:\n",
    "\n",
    "#the time given in the dataset is in string format.\n",
    "#So we need to change this in datetime format\n",
    "# ...\n",
    "month_names = {\n",
    "    1: 'Январь',\n",
    "    2: 'Февраль',\n",
    "    3: 'Март',\n",
    "    4: 'Апрель',\n",
    "    5: 'Май',\n",
    "    6: 'Июнь',\n",
    "    7: 'Июль',\n",
    "    8: 'Август',\n",
    "    9: 'Сентябрь',\n",
    "    10: 'Октябрь',\n",
    "    11: 'Ноябрь',\n",
    "    12: 'Декабрь'\n",
    "}\n",
    "\n",
    "\n",
    "def count_words(text, delimiters):\n",
    "    words_count = 0\n",
    "    previous_delimiter = True\n",
    "    for symbol in text:\n",
    "        current_delimiter = symbol in delimiters\n",
    "        if previous_delimiter and not current_delimiter:\n",
    "            words_count += 1\n",
    "        previous_delimiter = current_delimiter\n",
    "    return words_count\n",
    "\n",
    "\n",
    "data['title'] = data['original_title'] + ' (' + data['imdb_id'] + ')'\n",
    "data['profit'] = data['revenue'] - data['budget']\n",
    "data['release_month'] = data['release_date'].apply(lambda month: int(month[:month.find('/')]))\n",
    "data['title_length'] = data['original_title'].str.len()\n",
    "data['overview_count'] = data['overview'].apply(count_words, delimiters=' ,.!?')"
   ]
  },
  {
   "cell_type": "markdown",
   "metadata": {
    "colab_type": "text",
    "id": "YxZaH-nPVp-L"
   },
   "source": [
    "# 1. У какого фильма из списка самый большой бюджет?"
   ]
  },
  {
   "cell_type": "markdown",
   "metadata": {
    "colab_type": "text",
    "id": "Nd-G5gX6Vp-M"
   },
   "source": [
    "Использовать варианты ответов в коде решения запрещено.    \n",
    "Вы думаете и в жизни у вас будут варианты ответов?)"
   ]
  },
  {
   "cell_type": "code",
   "execution_count": 10,
   "metadata": {
    "colab": {},
    "colab_type": "code",
    "id": "uVnXAY5RVp-O"
   },
   "outputs": [],
   "source": [
    "# в словарь вставляем номер вопроса и ваш ответ на него\n",
    "# Пример: \n",
    "answers['1'] = '2. Spider-Man 3 (tt0413300)'\n",
    "# запишите свой вариант ответа\n",
    "answers['1'] = '...'\n",
    "# если ответили верно, можете добавить комментарий со значком \"+\""
   ]
  },
  {
   "cell_type": "code",
   "execution_count": 11,
   "metadata": {
    "colab": {},
    "colab_type": "code",
    "id": "dZwb3m28Vp-S"
   },
   "outputs": [
    {
     "data": {
      "text/plain": [
       "budget\n",
       "5000000                                       Wonderland\n",
       "5500000                                   Predestination\n",
       "6000000                              We Are Your Friends\n",
       "6400000                                       Young Adam\n",
       "6500000                                      The Pyramid\n",
       "                                ...                     \n",
       "258000000                                   Spider-Man 3\n",
       "260000000                                        Tangled\n",
       "280000000                        Avengers: Age of Ultron\n",
       "300000000       Pirates of the Caribbean: At World's End\n",
       "380000000    Pirates of the Caribbean: On Stranger Tides\n",
       "Name: original_title, Length: 203, dtype: object"
      ]
     },
     "metadata": {},
     "output_type": "display_data"
    }
   ],
   "source": [
    "# тут пишем ваш код для решения данного вопроса:\n",
    "answers['1']  = data.groupby(['budget'])['original_title'].max()\n",
    "display(answers['1'])"
   ]
  },
  {
   "cell_type": "markdown",
   "metadata": {
    "colab_type": "text",
    "id": "K7L3nbRXVp-X"
   },
   "source": [
    "ВАРИАНТ 2"
   ]
  },
  {
   "cell_type": "code",
   "execution_count": 0,
   "metadata": {
    "colab": {},
    "colab_type": "code",
    "id": "OGaoQI7rVp-X"
   },
   "outputs": [],
   "source": [
    "# можно добавлять разные варианты решения"
   ]
  },
  {
   "cell_type": "markdown",
   "metadata": {
    "colab_type": "text",
    "id": "FNRbbI3vVp-c"
   },
   "source": [
    "# 2. Какой из фильмов самый длительный (в минутах)?"
   ]
  },
  {
   "cell_type": "code",
   "execution_count": 0,
   "metadata": {
    "colab": {},
    "colab_type": "code",
    "id": "vHAoEXNTVp-d"
   },
   "outputs": [],
   "source": [
    "# думаю логику работы с этим словарем вы уже поняли, \n",
    "# по этому не буду больше его дублировать\n",
    "answers['2'] = '...'"
   ]
  },
  {
   "cell_type": "code",
   "execution_count": 12,
   "metadata": {
    "colab": {},
    "colab_type": "code",
    "id": "ot-VX2XrVp-g"
   },
   "outputs": [
    {
     "data": {
      "text/plain": [
       "runtime\n",
       "63                                   Winnie the Pooh\n",
       "72                                 The Jungle Book 2\n",
       "76                                           Valiant\n",
       "77                                      Corpse Bride\n",
       "78                          The Emperor's New Groove\n",
       "                           ...                      \n",
       "183                                     Pearl Harbor\n",
       "187                                        King Kong\n",
       "191                                       Grindhouse\n",
       "201    The Lord of the Rings: The Return of the King\n",
       "214                                Gods and Generals\n",
       "Name: original_title, Length: 105, dtype: object"
      ]
     },
     "metadata": {},
     "output_type": "display_data"
    }
   ],
   "source": [
    "answers['2'] = data.groupby(['runtime'])['original_title'].max()\n",
    "display(answers['2'])"
   ]
  },
  {
   "cell_type": "markdown",
   "metadata": {
    "colab_type": "text",
    "id": "bapLlpW8Vp-k"
   },
   "source": [
    "# 3. Какой из фильмов самый короткий (в минутах)?\n",
    "\n",
    "\n",
    "\n"
   ]
  },
  {
   "cell_type": "code",
   "execution_count": 13,
   "metadata": {
    "colab": {},
    "colab_type": "code",
    "id": "YBxaSHuAVp-l"
   },
   "outputs": [
    {
     "data": {
      "text/plain": [
       "runtime\n",
       "63                                   Winnie the Pooh\n",
       "72                              Return to Never Land\n",
       "76                                 Home on the Range\n",
       "77                                      Corpse Bride\n",
       "78                                   Stuart Little 2\n",
       "                           ...                      \n",
       "183                                     Pearl Harbor\n",
       "187                                        King Kong\n",
       "191                                       Grindhouse\n",
       "201    The Lord of the Rings: The Return of the King\n",
       "214                                Gods and Generals\n",
       "Name: original_title, Length: 105, dtype: object"
      ]
     },
     "metadata": {},
     "output_type": "display_data"
    }
   ],
   "source": [
    "answers['3'] = data.groupby(['runtime'])['original_title'].min()\n",
    "display(answers['3'])"
   ]
  },
  {
   "cell_type": "markdown",
   "metadata": {
    "colab_type": "text",
    "id": "TfQbxbfNVp-p"
   },
   "source": [
    "# 4. Какова средняя длительность фильмов?\n"
   ]
  },
  {
   "cell_type": "code",
   "execution_count": 14,
   "metadata": {
    "colab": {},
    "colab_type": "code",
    "id": "5K6dKZYVVp-q"
   },
   "outputs": [
    {
     "data": {
      "text/plain": [
       "110"
      ]
     },
     "execution_count": 14,
     "metadata": {},
     "output_type": "execute_result"
    }
   ],
   "source": [
    "answers['4'] = data['runtime'].mean()\n",
    "round(answers['4'])"
   ]
  },
  {
   "cell_type": "markdown",
   "metadata": {
    "colab_type": "text",
    "id": "r5TvbnT_Vp-u"
   },
   "source": [
    "# 5. Каково медианное значение длительности фильмов? "
   ]
  },
  {
   "cell_type": "code",
   "execution_count": 15,
   "metadata": {
    "colab": {},
    "colab_type": "code",
    "id": "iBROplKnVp-v"
   },
   "outputs": [
    {
     "data": {
      "text/plain": [
       "107"
      ]
     },
     "execution_count": 15,
     "metadata": {},
     "output_type": "execute_result"
    }
   ],
   "source": [
    "answers['5'] = data['runtime'].median()\n",
    "round(answers['5'])"
   ]
  },
  {
   "cell_type": "markdown",
   "metadata": {
    "colab_type": "text",
    "id": "39P-deDSVp-y"
   },
   "source": [
    "# 6. Какой самый прибыльный фильм?\n",
    "#### Внимание! Здесь и далее под «прибылью» или «убытками» понимается разность между сборами и бюджетом фильма. (прибыль = сборы - бюджет) в нашем датасете это будет (profit = revenue - budget) "
   ]
  },
  {
   "cell_type": "code",
   "execution_count": 16,
   "metadata": {
    "colab": {},
    "colab_type": "code",
    "id": "UYZh4T9WVp-y"
   },
   "outputs": [
    {
     "data": {
      "text/plain": [
       "profit\n",
       "-165710090                  The Lone Ranger\n",
       "-119180039                        The Alamo\n",
       "-111007242                  Mars Needs Moms\n",
       "-92896027      The Adventures of Pluto Nash\n",
       "-84540684                      Flushed Away\n",
       "                           ...             \n",
       " 1299557910                    The Avengers\n",
       " 1316249360                       Furious 7\n",
       " 1363528810                  Jurassic World\n",
       " 1868178225    Star Wars: The Force Awakens\n",
       " 2544505847                          Avatar\n",
       "Name: original_title, Length: 1881, dtype: object"
      ]
     },
     "metadata": {},
     "output_type": "display_data"
    }
   ],
   "source": [
    "# лучше код получения столбца profit вынести в Предобработку что в начале\n",
    "profit = []\n",
    "data['profit'] = data['revenue'] - data['budget']\n",
    "answers['6'] = data.groupby(['profit'])['original_title'].max()\n",
    "display(answers['6'])"
   ]
  },
  {
   "cell_type": "markdown",
   "metadata": {
    "colab_type": "text",
    "id": "M99JmIX4Vp-2"
   },
   "source": [
    "# 7. Какой фильм самый убыточный? "
   ]
  },
  {
   "cell_type": "code",
   "execution_count": 17,
   "metadata": {
    "colab": {},
    "colab_type": "code",
    "id": "w-D2m4XPVp-3"
   },
   "outputs": [
    {
     "data": {
      "text/plain": [
       "profit\n",
       "-165710090                  The Lone Ranger\n",
       "-119180039                        The Alamo\n",
       "-111007242                  Mars Needs Moms\n",
       "-92896027      The Adventures of Pluto Nash\n",
       "-84540684                      Flushed Away\n",
       "                           ...             \n",
       " 1299557910                    The Avengers\n",
       " 1316249360                       Furious 7\n",
       " 1363528810                  Jurassic World\n",
       " 1868178225    Star Wars: The Force Awakens\n",
       " 2544505847                          Avatar\n",
       "Name: original_title, Length: 1881, dtype: object"
      ]
     },
     "metadata": {},
     "output_type": "display_data"
    }
   ],
   "source": [
    "answers['7'] = data.groupby(['profit'])['original_title'].min()\n",
    "display(answers['7'])"
   ]
  },
  {
   "cell_type": "markdown",
   "metadata": {
    "colab_type": "text",
    "id": "wEOM5ERVVp-6"
   },
   "source": [
    "# 8. У скольких фильмов из датасета объем сборов оказался выше бюджета?"
   ]
  },
  {
   "cell_type": "code",
   "execution_count": 19,
   "metadata": {
    "colab": {},
    "colab_type": "code",
    "id": "y00_7HD6Vp-7"
   },
   "outputs": [
    {
     "data": {
      "text/plain": [
       "0                     Jurassic World\n",
       "1                 Mad Max: Fury Road\n",
       "2                          Insurgent\n",
       "3       Star Wars: The Force Awakens\n",
       "4                          Furious 7\n",
       "                    ...             \n",
       "1871               Keeping the Faith\n",
       "1875                         The Kid\n",
       "1877               Love & Basketball\n",
       "1883                    Return to Me\n",
       "1884                           X-Men\n",
       "Name: original_title, Length: 1478, dtype: object"
      ]
     },
     "metadata": {},
     "output_type": "display_data"
    }
   ],
   "source": [
    "answers['8'] = data.original_title [(data.revenue > data.budget)]\n",
    "display(answers['8'])"
   ]
  },
  {
   "cell_type": "markdown",
   "metadata": {
    "colab_type": "text",
    "id": "xhpspA9KVp_A"
   },
   "source": [
    "# 9. Какой фильм оказался самым кассовым в 2008 году?"
   ]
  },
  {
   "cell_type": "code",
   "execution_count": 20,
   "metadata": {
    "colab": {},
    "colab_type": "code",
    "id": "MoUyQr9RVp_B"
   },
   "outputs": [
    {
     "data": {
      "text/plain": [
       "revenue\n",
       "2033165                                       Mutant Chronicles\n",
       "3533227                                 The Midnight Meat Train\n",
       "5530764                                      The Brothers Bloom\n",
       "5926410                                           Transsiberian\n",
       "6673422                                      What Just Happened\n",
       "                                    ...                        \n",
       "609841637                                            Mamma Mia!\n",
       "624029371                                               Hancock\n",
       "631744560                                         Kung Fu Panda\n",
       "786636033     Indiana Jones and the Kingdom of the Crystal S...\n",
       "1001921825                                      The Dark Knight\n",
       "Name: original_title, Length: 121, dtype: object"
      ]
     },
     "execution_count": 20,
     "metadata": {},
     "output_type": "execute_result"
    }
   ],
   "source": [
    "answers['9'] = data[data['release_year'] == 2008].groupby(['revenue'])['original_title'].max()\n",
    "answers['9']"
   ]
  },
  {
   "cell_type": "markdown",
   "metadata": {
    "colab_type": "text",
    "id": "Zi4hDKidVp_F"
   },
   "source": [
    "# 10. Самый убыточный фильм за период с 2012 по 2014 г. (включительно)?\n"
   ]
  },
  {
   "cell_type": "code",
   "execution_count": 21,
   "metadata": {
    "colab": {},
    "colab_type": "code",
    "id": "XqyRmufJVp_F"
   },
   "outputs": [
    {
     "data": {
      "text/plain": [
       "profit\n",
       "-165710090                     The Lone Ranger\n",
       "-68351500                             R.I.P.D.\n",
       "-51893525                          Upside Down\n",
       "-51337973      Legends of Oz: Dorothy's Return\n",
       "-45510171                   Bullet to the Head\n",
       "                            ...               \n",
       " 894761885                     Despicable Me 2\n",
       " 908561013                             Skyfall\n",
       " 1015439994                         Iron Man 3\n",
       " 1124219009                             Frozen\n",
       " 1299557910                       The Avengers\n",
       "Name: original_title, Length: 367, dtype: object"
      ]
     },
     "execution_count": 21,
     "metadata": {},
     "output_type": "execute_result"
    }
   ],
   "source": [
    "profit = []\n",
    "data['profit'] = data['revenue'] - data['budget']\n",
    "answers['10'] = data[data['release_year'].between(2012, 2014)].groupby(['profit'])['original_title'].min()\n",
    "answers['10']"
   ]
  },
  {
   "cell_type": "markdown",
   "metadata": {
    "colab_type": "text",
    "id": "EA7Sa9dkVp_I"
   },
   "source": [
    "# 11. Какого жанра фильмов больше всего?"
   ]
  },
  {
   "cell_type": "code",
   "execution_count": 0,
   "metadata": {
    "colab": {},
    "colab_type": "code",
    "id": "zsJAwJ8QVp_J"
   },
   "outputs": [],
   "source": [
    "# эту задачу тоже можно решать разными подходами, попробуй реализовать разные варианты\n",
    "# если будешь добавлять функцию - выноси ее в предобработку что в начале"
   ]
  },
  {
   "cell_type": "markdown",
   "metadata": {
    "colab_type": "text",
    "id": "Ax6g2C8SVp_M"
   },
   "source": [
    "ВАРИАНТ 2"
   ]
  },
  {
   "cell_type": "code",
   "execution_count": 22,
   "metadata": {
    "colab": {},
    "colab_type": "code",
    "id": "otO3SbrSVp_N"
   },
   "outputs": [
    {
     "data": {
      "text/plain": [
       "'Drama'"
      ]
     },
     "execution_count": 22,
     "metadata": {},
     "output_type": "execute_result"
    }
   ],
   "source": [
    "genres_count = {}\n",
    "for genres in data['genres']:\n",
    "    for genre in genres.split('|'):\n",
    "        genres_count.setdefault(genre, 0)\n",
    "        genres_count[genre] += 1\n",
    "\n",
    "max_count = 0\n",
    "max_genres = []\n",
    "for genre, count in genres_count.items():\n",
    "    if count > max_count:\n",
    "        max_count = count\n",
    "        max_genres = [genre]\n",
    "    elif count == max_count:\n",
    "        max_genres.append(genre)\n",
    "\n",
    "answers['11'] = '\\n'.join(max_genres)\n",
    "answers['11']"
   ]
  },
  {
   "cell_type": "markdown",
   "metadata": {
    "colab_type": "text",
    "id": "T9_bPWpkVp_Q"
   },
   "source": [
    "# 12. Фильмы какого жанра чаще всего становятся прибыльными? "
   ]
  },
  {
   "cell_type": "code",
   "execution_count": 23,
   "metadata": {
    "colab": {},
    "colab_type": "code",
    "id": "Tmt8MaK1Vp_R"
   },
   "outputs": [
    {
     "data": {
      "text/plain": [
       "'Drama'"
      ]
     },
     "execution_count": 23,
     "metadata": {},
     "output_type": "execute_result"
    }
   ],
   "source": [
    "answers['12'] = data[data['profit'] > 0]['genres'].str.split('|').explode().value_counts().index[0]\n",
    "answers['12']\n"
   ]
  },
  {
   "cell_type": "markdown",
   "metadata": {
    "colab_type": "text",
    "id": "0F23bgsDVp_U"
   },
   "source": [
    "# 13. У какого режиссера самые большие суммарные кассовые сбооры?"
   ]
  },
  {
   "cell_type": "code",
   "execution_count": 24,
   "metadata": {
    "colab": {},
    "colab_type": "code",
    "id": "K6Z3J8ygVp_X"
   },
   "outputs": [
    {
     "data": {
      "text/plain": [
       "'Peter Jackson'"
      ]
     },
     "execution_count": 24,
     "metadata": {},
     "output_type": "execute_result"
    }
   ],
   "source": [
    "movies = pd.concat([data['revenue'], data['director'].str.split('|')], axis=1).explode('director')\n",
    "movies = movies.groupby('director', sort=False)['revenue'].sum()\n",
    "answers['13'] = movies[movies == movies.max()].index.str.cat(sep='\\n')\n",
    "answers['13']"
   ]
  },
  {
   "cell_type": "markdown",
   "metadata": {
    "colab_type": "text",
    "id": "PsYC9FgRVp_a"
   },
   "source": [
    "# 14. Какой режисер снял больше всего фильмов в стиле Action?"
   ]
  },
  {
   "cell_type": "code",
   "execution_count": 25,
   "metadata": {
    "colab": {},
    "colab_type": "code",
    "id": "wd2M-wHeVp_b"
   },
   "outputs": [
    {
     "data": {
      "text/plain": [
       "'Robert Rodriguez'"
      ]
     },
     "execution_count": 25,
     "metadata": {},
     "output_type": "execute_result"
    }
   ],
   "source": [
    "answers['14'] = data[data['genres'].str.contains('action', case=False)]['director'].str.split('|').explode().value_counts().index[0]\n",
    "answers['14']"
   ]
  },
  {
   "cell_type": "markdown",
   "metadata": {
    "colab_type": "text",
    "id": "PQ0KciD7Vp_f"
   },
   "source": [
    "# 15. Фильмы с каким актером принесли самые высокие кассовые сборы в 2012 году? "
   ]
  },
  {
   "cell_type": "code",
   "execution_count": 26,
   "metadata": {
    "colab": {},
    "colab_type": "code",
    "id": "aga62oeKVp_g"
   },
   "outputs": [
    {
     "data": {
      "text/plain": [
       "'Chris Hemsworth'"
      ]
     },
     "execution_count": 26,
     "metadata": {},
     "output_type": "execute_result"
    }
   ],
   "source": [
    "movies = data[data['release_year'] == 2012]\n",
    "movies = pd.concat([movies['revenue'], movies['cast'].str.split('|')], axis=1).explode('cast')\n",
    "answers['15'] = movies.groupby('cast', sort=False)['revenue'].sum().sort_values(ascending=False).index[0]\n",
    "answers['15']\n"
   ]
  },
  {
   "cell_type": "markdown",
   "metadata": {
    "colab_type": "text",
    "id": "mWHyyL7QVp_j"
   },
   "source": [
    "# 16. Какой актер снялся в большем количестве высокобюджетных фильмов?"
   ]
  },
  {
   "cell_type": "code",
   "execution_count": 27,
   "metadata": {
    "colab": {},
    "colab_type": "code",
    "id": "qQtmHKTFVp_k"
   },
   "outputs": [
    {
     "data": {
      "text/plain": [
       "'Matt Damon'"
      ]
     },
     "execution_count": 27,
     "metadata": {},
     "output_type": "execute_result"
    }
   ],
   "source": [
    "movies = data[data['budget'] > data['budget'].mean()]\n",
    "answers['16'] = movies['cast'].str.split('|').explode().value_counts().index[0]\n",
    "answers['16']"
   ]
  },
  {
   "cell_type": "markdown",
   "metadata": {
    "colab_type": "text",
    "id": "NIh6AaW5Vp_n"
   },
   "source": [
    "# 17. В фильмах какого жанра больше всего снимался Nicolas Cage? "
   ]
  },
  {
   "cell_type": "code",
   "execution_count": 28,
   "metadata": {
    "colab": {},
    "colab_type": "code",
    "id": "H74SJDIBVp_n"
   },
   "outputs": [
    {
     "data": {
      "text/plain": [
       "'Action'"
      ]
     },
     "execution_count": 28,
     "metadata": {},
     "output_type": "execute_result"
    }
   ],
   "source": [
    "movies = pd.concat([data['release_year'], data['genres'].str.split('|'), data['cast'].str.split('|')], axis=1).explode('genres').explode('cast')\n",
    "movies = movies.groupby(['cast', 'genres'], sort=True)\n",
    "answers['17'] = movies.count().loc['Nicolas Cage']['release_year'].sort_values(ascending=False).index[0]\n",
    "answers['17']"
   ]
  },
  {
   "cell_type": "markdown",
   "metadata": {
    "colab_type": "text",
    "id": "RqOmPRfWVp_q"
   },
   "source": [
    "# 18. Самый убыточный фильм от Paramount Pictures"
   ]
  },
  {
   "cell_type": "code",
   "execution_count": 29,
   "metadata": {
    "colab": {},
    "colab_type": "code",
    "id": "9E_B0Y96Vp_r"
   },
   "outputs": [
    {
     "data": {
      "text/plain": [
       "'K-19: The Widowmaker (tt0267626)'"
      ]
     },
     "execution_count": 29,
     "metadata": {},
     "output_type": "execute_result"
    }
   ],
   "source": [
    "movies = data[data['production_companies'].str.contains('Paramount Pictures', case=False)]\n",
    "answers['18'] = movies[movies['profit'] == movies['profit'].min()]['title'].str.cat(sep='\\n')\n",
    "answers['18']"
   ]
  },
  {
   "cell_type": "markdown",
   "metadata": {
    "colab_type": "text",
    "id": "vS8Ur6ddVp_u"
   },
   "source": [
    "# 19. Какой год стал самым успешным по суммарным кассовым сборам?"
   ]
  },
  {
   "cell_type": "code",
   "execution_count": 30,
   "metadata": {
    "colab": {},
    "colab_type": "code",
    "id": "Dnbt4GdIVp_v"
   },
   "outputs": [
    {
     "data": {
      "text/plain": [
       "2015"
      ]
     },
     "execution_count": 30,
     "metadata": {},
     "output_type": "execute_result"
    }
   ],
   "source": [
    "answers['19'] = data.groupby('release_year', sort=False)['revenue'].sum().sort_values(ascending=False).index[0]\n",
    "answers['19']"
   ]
  },
  {
   "cell_type": "markdown",
   "metadata": {
    "colab_type": "text",
    "id": "JAzJh4QAVp_z"
   },
   "source": [
    "# 20. Какой самый прибыльный год для студии Warner Bros?"
   ]
  },
  {
   "cell_type": "code",
   "execution_count": 31,
   "metadata": {
    "colab": {},
    "colab_type": "code",
    "id": "wgVu02DEVp_0"
   },
   "outputs": [
    {
     "data": {
      "text/plain": [
       "2014"
      ]
     },
     "execution_count": 31,
     "metadata": {},
     "output_type": "execute_result"
    }
   ],
   "source": [
    "movies = data[data['production_companies'].str.contains('Warner Bros', case=False)]\n",
    "answers['20'] = movies.groupby('release_year', sort=False)['profit'].sum().sort_values(ascending=False).index[0]\n",
    "answers['20']"
   ]
  },
  {
   "cell_type": "markdown",
   "metadata": {
    "colab_type": "text",
    "id": "8Im1S2HRVp_4"
   },
   "source": [
    "# 21. В каком месяце за все годы суммарно вышло больше всего фильмов?"
   ]
  },
  {
   "cell_type": "code",
   "execution_count": 32,
   "metadata": {
    "colab": {},
    "colab_type": "code",
    "id": "lev6TH7gVp_4"
   },
   "outputs": [
    {
     "data": {
      "text/plain": [
       "'Сентябрь'"
      ]
     },
     "execution_count": 32,
     "metadata": {},
     "output_type": "execute_result"
    }
   ],
   "source": [
    "month = data.groupby('release_month')['release_date'].count().sort_values(ascending=False).index[0]\n",
    "answers['21'] = month_names[month]\n",
    "answers['21']"
   ]
  },
  {
   "cell_type": "markdown",
   "metadata": {
    "colab_type": "text",
    "id": "uAJsZ_NeVp_7"
   },
   "source": [
    "# 22. Сколько суммарно вышло фильмов летом? (за июнь, июль, август)"
   ]
  },
  {
   "cell_type": "code",
   "execution_count": 33,
   "metadata": {
    "colab": {},
    "colab_type": "code",
    "id": "Aa-hEREoVp_8"
   },
   "outputs": [
    {
     "data": {
      "text/plain": [
       "450"
      ]
     },
     "execution_count": 33,
     "metadata": {},
     "output_type": "execute_result"
    }
   ],
   "source": [
    "answers['22'] = data[data['release_month'].between(6, 8)].shape[0]\n",
    "answers['22']\n"
   ]
  },
  {
   "cell_type": "markdown",
   "metadata": {
    "colab_type": "text",
    "id": "G94ppOY1VqAA"
   },
   "source": [
    "# 23. Для какого режиссера зима – самое продуктивное время года? "
   ]
  },
  {
   "cell_type": "code",
   "execution_count": 34,
   "metadata": {
    "colab": {},
    "colab_type": "code",
    "id": "RhNTsamuVqAB"
   },
   "outputs": [
    {
     "data": {
      "text/plain": [
       "'Peter Jackson'"
      ]
     },
     "execution_count": 34,
     "metadata": {},
     "output_type": "execute_result"
    }
   ],
   "source": [
    "answers['23'] = data[(data['release_month'] == 12) | (data['release_month'] <= 2)]['director'].str.split('|').explode().value_counts().index[0]\n",
    "answers['23']\n"
   ]
  },
  {
   "cell_type": "markdown",
   "metadata": {
    "colab_type": "text",
    "id": "RBo0JVjVVqAF"
   },
   "source": [
    "# 24. Какая студия дает самые длинные названия своим фильмам по количеству символов?"
   ]
  },
  {
   "cell_type": "code",
   "execution_count": 35,
   "metadata": {
    "colab": {},
    "colab_type": "code",
    "id": "QRGS8L0iVqAG"
   },
   "outputs": [
    {
     "data": {
      "text/plain": [
       "'Four By Two Productions'"
      ]
     },
     "execution_count": 35,
     "metadata": {},
     "output_type": "execute_result"
    }
   ],
   "source": [
    "movies = pd.concat([data['title_length'], data['production_companies'].str.split('|')], axis=1).explode('production_companies')\n",
    "movies_grouped = movies.groupby(by='production_companies')['title_length']\n",
    "answers['24'] = (movies_grouped.sum() / movies_grouped.count()).sort_values(ascending=False).index[0]\n",
    "answers['24']"
   ]
  },
  {
   "cell_type": "markdown",
   "metadata": {
    "colab_type": "text",
    "id": "9G0hbvR7VqAK"
   },
   "source": [
    "# 25. Описание фильмов какой студии в среднем самые длинные по количеству слов?"
   ]
  },
  {
   "cell_type": "code",
   "execution_count": 36,
   "metadata": {
    "colab": {},
    "colab_type": "code",
    "id": "Ge2GsLNxVqAK"
   },
   "outputs": [
    {
     "data": {
      "text/plain": [
       "'Midnight Picture Show'"
      ]
     },
     "execution_count": 36,
     "metadata": {},
     "output_type": "execute_result"
    }
   ],
   "source": [
    "movies = pd.concat([data['overview_count'], data['production_companies'].str.split('|')], axis=1).explode('production_companies')\n",
    "movies_grouped = movies.groupby(by='production_companies')['overview_count']\n",
    "answers['25'] = (movies_grouped.sum() / movies_grouped.count()).sort_values(ascending=False).index[0]\n",
    "answers['25']"
   ]
  },
  {
   "cell_type": "markdown",
   "metadata": {
    "colab_type": "text",
    "id": "FJ1AFt90VqAP"
   },
   "source": [
    "# 26. Какие фильмы входят в 1 процент лучших по рейтингу? \n",
    "по vote_average"
   ]
  },
  {
   "cell_type": "code",
   "execution_count": 37,
   "metadata": {
    "colab": {},
    "colab_type": "code",
    "id": "8qmJVq4CVqAQ"
   },
   "outputs": [
    {
     "data": {
      "text/plain": [
       "'Inside Out\\nRoom\\nInterstellar\\nGuardians of the Galaxy\\nThe Imitation Game\\nGone Girl\\nThe Grand Budapest Hotel\\nInception\\nThe Dark Knight\\nThe Pianist\\nThe Lord of the Rings: The Return of the King\\nThe Wolf of Wall Street\\n12 Years a Slave\\nMemento'"
      ]
     },
     "execution_count": 37,
     "metadata": {},
     "output_type": "execute_result"
    }
   ],
   "source": [
    "answers['26'] = data[data['vote_average'] > data['vote_average'].quantile(0.99)]['original_title'].str.cat(sep='\\n')\n",
    "answers['26']"
   ]
  },
  {
   "cell_type": "markdown",
   "metadata": {
    "colab_type": "text",
    "id": "MdXsUXbCVqAV"
   },
   "source": [
    "# 27. Какие актеры чаще всего снимаются в одном фильме вместе?\n"
   ]
  },
  {
   "cell_type": "code",
   "execution_count": 38,
   "metadata": {},
   "outputs": [
    {
     "data": {
      "text/plain": [
       "'Daniel Radcliffe & Rupert Grint\\nDaniel Radcliffe & Emma Watson\\nEmma Watson & Rupert Grint'"
      ]
     },
     "execution_count": 38,
     "metadata": {},
     "output_type": "execute_result"
    }
   ],
   "source": [
    "actors_count = {}\n",
    "for actors in data['cast'].str.split('|'):\n",
    "    actors_amount = len(actors)\n",
    "    for actor1_index in range(actors_amount):\n",
    "\n",
    "        actor1 = actors[actor1_index]\n",
    "        for actor2_index in range(actor1_index + 1, actors_amount):\n",
    "            actor2 = actors[actor2_index]\n",
    "\n",
    "            if actor2 > actor1:\n",
    "                pair = (actor1, actor2)\n",
    "            else:\n",
    "                pair = (actor2, actor1)\n",
    "\n",
    "            if pair in actors_count:\n",
    "                actors_count[pair] += 1\n",
    "            else:\n",
    "                actors_count[pair] = 1\n",
    "\n",
    "max_count = 0\n",
    "max_pairs = []\n",
    "for pair, count in actors_count.items():\n",
    "    if count >= max_count:\n",
    "        if count > max_count:\n",
    "            max_count = count\n",
    "            max_pairs.clear()\n",
    "        max_pairs.append(' & '.join(pair))\n",
    "answers['27'] = '\\n'.join(max_pairs)\n",
    "answers['27']"
   ]
  },
  {
   "cell_type": "markdown",
   "metadata": {
    "colab_type": "text",
    "id": "4ymnxEVoVqAW"
   },
   "source": [
    "ВАРИАНТ 2"
   ]
  },
  {
   "cell_type": "markdown",
   "metadata": {
    "colab_type": "text",
    "id": "U0nONFnGVqAX"
   },
   "source": [
    "# Submission"
   ]
  },
  {
   "cell_type": "code",
   "execution_count": 0,
   "metadata": {
    "colab": {},
    "colab_type": "code",
    "id": "IfcaRO9-VqAX",
    "outputId": "0f132912-32bb-4196-c98c-abfbc4ad5a5f"
   },
   "outputs": [
    {
     "data": {
      "text/plain": [
       "{'1': '...', '2': '...'}"
      ]
     },
     "execution_count": 8,
     "metadata": {
      "tags": []
     },
     "output_type": "execute_result"
    }
   ],
   "source": [
    "# в конце можно посмотреть свои ответы к каждому вопросу\n",
    "answers"
   ]
  },
  {
   "cell_type": "code",
   "execution_count": 0,
   "metadata": {
    "colab": {},
    "colab_type": "code",
    "id": "SiRmHPl8VqAd"
   },
   "outputs": [],
   "source": [
    "# и убедиться что ни чего не пропустил)\n",
    "len(answers)"
   ]
  },
  {
   "cell_type": "code",
   "execution_count": 0,
   "metadata": {
    "colab": {},
    "colab_type": "code",
    "id": "uCfuTkRbVqAg"
   },
   "outputs": [],
   "source": []
  },
  {
   "cell_type": "code",
   "execution_count": 0,
   "metadata": {
    "colab": {},
    "colab_type": "code",
    "id": "Vwx3NrkSVqAl"
   },
   "outputs": [],
   "source": []
  }
 ],
 "metadata": {
  "colab": {
   "name": "Copy of [SF-DST] Movies IMBD v4.1 TEMPLATE.ipynb",
   "provenance": []
  },
  "kernelspec": {
   "display_name": "Python 3",
   "language": "python",
   "name": "python3"
  },
  "language_info": {
   "codemirror_mode": {
    "name": "ipython",
    "version": 3
   },
   "file_extension": ".py",
   "mimetype": "text/x-python",
   "name": "python",
   "nbconvert_exporter": "python",
   "pygments_lexer": "ipython3",
   "version": "3.7.6"
  }
 },
 "nbformat": 4,
 "nbformat_minor": 1
}
